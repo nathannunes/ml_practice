{
  "nbformat": 4,
  "nbformat_minor": 0,
  "metadata": {
    "colab": {
      "name": "Udacity NLP Section 1.ipynb",
      "provenance": [],
      "collapsed_sections": [],
      "mount_file_id": "19c_adrI1mmjIAzVLseNtemKeVzpMrs6C",
      "authorship_tag": "ABX9TyPk2VVxbhw+aNzT8i59XPWO",
      "include_colab_link": true
    },
    "kernelspec": {
      "name": "python3",
      "display_name": "Python 3"
    }
  },
  "cells": [
    {
      "cell_type": "markdown",
      "metadata": {
        "id": "view-in-github",
        "colab_type": "text"
      },
      "source": [
        "<a href=\"https://colab.research.google.com/github/nathannunes/ml_practice/blob/text_processing/Udacity_NLP_Section_1.ipynb\" target=\"_parent\"><img src=\"https://colab.research.google.com/assets/colab-badge.svg\" alt=\"Open In Colab\"/></a>"
      ]
    },
    {
      "cell_type": "markdown",
      "metadata": {
        "id": "fXniP1BJbtk1"
      },
      "source": [
        "# **Text Processing**\n",
        "*Capturing and Cleaning*"
      ]
    },
    {
      "cell_type": "code",
      "metadata": {
        "id": "Fh0Xc_cicOsE",
        "outputId": "09479174-3e58-4031-b264-c5b6448068e9",
        "colab": {
          "base_uri": "https://localhost:8080/",
          "height": 1000
        },
        "tags": [
          "outputPrepend"
        ]
      },
      "source": [
        "import requests \n",
        "\n",
        "#Fetch Page\n",
        "page = requests.get('https://timesofindia.indiatimes.com/india')\n",
        "print(page.text)"
      ],
      "execution_count": 2,
      "outputs": [
        {
          "output_type": "stream",
          "name": "stdout",
          "text": [
            "man Khan\" href=\"https://timesofindia.indiatimes.com/entertainment/hindi/bollywood/news/throwback-thursday-when-salman-khan-revealed-why-he-refused-to-do-shah-rukh-khans-baazigar-and-chak-de-india/articleshow/78806422.cms\">Salman Khan</a></li><li><a pg=\"Footer-level0-Trending_Topics/level1-Suhana_Khan#Item_View-105-geturl\" title=\"Suhana Khan\" href=\"https://timesofindia.indiatimes.com/entertainment/hindi/bollywood/news/these-unseen-photos-of-suhana-khan-from-dubai-deserve-your-attention/articleshow/78807481.cms\">Suhana Khan</a></li><li><a pg=\"Footer-level0-Trending_Topics/level1-Chiranjeevi_Sarja#Item_View-106-geturl\" title=\"Chiranjeevi Sarja\" href=\"https://timesofindia.indiatimes.com/entertainment/kannada/movies/news/chiranjeevi-sarja-is-back-meghana-raj-gives-birth-to-a-baby-boy/articleshow/78803529.cms\">Chiranjeevi Sarja</a></li><li><a pg=\"Footer-level0-Trending_Topics/level1-Hrithik_Roshan#Item_View-107-geturl\" title=\"Hrithik Roshan\" href=\"https://timesofindia.indiatimes.com/entertainment/hindi/bollywood/news/hrithik-roshans-mother-pinkie-roshan-shares-a-post-for-sushant-singh-rajput-everyone-wants-the-truth-but-no-one-wants-to-be-honest/articleshow/78800040.cms\">Hrithik Roshan</a></li><li><a pg=\"Footer-level0-Trending_Topics/level1-Rashmika_Mandanna#Item_View-108-geturl\" title=\"Rashmika Mandanna\" href=\"https://timesofindia.indiatimes.com/entertainment/kannada/movies/news/rashmika-mandanna-continues-to-inspire-fans-through-her-fitness-posts/articleshow/78771726.cms\">Rashmika Mandanna</a></li><li><a pg=\"Footer-level0-Trending_Topics/level1-OnePlus_8T_Launch_Updates#Item_View-109-geturl\" title=\"OnePlus 8T Launch Updates\" href=\"https://timesofindia.indiatimes.com/gadgets-news/oneplus-8t-5g-india-launch-live-updates-live-stream/liveblog/78662500.cms\">OnePlus 8T Launch Updates</a></li><li><a pg=\"Footer-level0-Trending_Topics/level1-Flipkart_Quiz#Item_View-110-geturl\" title=\"Flipkart Quiz\" href=\"https://timesofindia.indiatimes.com/gadgets-news/flipkart-quiz-october-22-2020-get-answers-to-these-five-questions-to-win-super-coins-discount-vouchers-and-more/articleshow/78800895.cms\">Flipkart Quiz</a></li><li><a pg=\"Footer-level0-Trending_Topics/level1-Amazon_App_Quiz#Item_View-111-geturl\" title=\"Amazon App Quiz\" href=\"https://timesofindia.indiatimes.com/gadgets-news/amazon-app-quiz-october-21-2020-get-answers-to-these-five-questions-to-win-rs-10000-in-amazon-pay-balance/articleshow/78780782.cms\">Amazon App Quiz</a></li><li><a pg=\"Footer-level0-Trending_Topics/level1-Pubg_Mobile#Item_View-112-geturl\" title=\"Pubg Mobile\" href=\"https://timesofindia.indiatimes.com/gadgets-news/good-news-for-pubg-mobile-fans-heres-hint-of-a-comeback/articleshow/78802880.cms\">Pubg Mobile</a></li><li><a pg=\"Footer-level0-Trending_Topics/level1-Pixel_5_Feature#Item_View-113-geturl\" title=\"Pixel 5 Feature\" href=\"https://timesofindia.indiatimes.com/gadgets-news/google-is-rolling-out-this-popular-pixel-5-feature-to-older-pixel-phones/articleshow/78773378.cms\">Pixel 5 Feature</a></li><li><a pg=\"Footer-level0-Trending_Topics/level1-Amazon_Great_Indian_Festival_Sale_Offers#Item_View-114-geturl\" title=\"Amazon Great Indian Festival Sale Offers\" href=\"https://timesofindia.indiatimes.com/most-searched-products/todays-deals/amazon/amazon-great-indian-festival-sale-save-up-to-60-on-next-generation-electronics/articleshow/78839885.cms\">Amazon Great Indian Festival Sale Offers</a></li><li><a pg=\"Footer-level0-Trending_Topics/level1-Bangalore_Rains#Item_View-115-geturl\" title=\"Bangalore Rains\" href=\"https://timesofindia.indiatimes.com/city/bengaluru/bengaluru-rain-floods-300-houses-washes-away-500-vehicles/articleshow/78838499.cms\">Bangalore Rains</a></li><li><a pg=\"Footer-level0-Trending_Topics/level1-Amazon_Great_Indian_Festival#Item_View-116-geturl\" title=\"Amazon Great Indian Festival\" href=\"https://timesofindia.indiatimes.com/most-searched-products/todays-deals/amazon/amazon-great-indian-festival-up-to-75-off-on-food-processors-egg-boilers-and-more/articleshow/78843581.cms\">Amazon Great Indian Festival</a></li><li><a pg=\"Footer-level0-Trending_Topics/level1-Amazon_Sale_Today_Offers#Item_View-117-geturl\" title=\"Amazon Sale Today Offers\" href=\"https://timesofindia.indiatimes.com/most-searched-products/todays-deals/amazon/amazon-sale-up-to-75-off-on-tvs-washing-machines-chimneys-more/articleshow/78842531.cms\">Amazon Sale Today Offers</a></li></ul></div></div></div><div class=\"level2\"><div class=\"row clearfix\"><div class=\"column\"><div class=\"sociable\"><h2>Follow us on</h2><ul><li class=\"fb\"><a target=\"_blank\" rel=\"nofollow\" href=\"https://www.facebook.com/TimesofIndia\" pg=\"Footer-Social_Section#Click-facebook\"><i></i>facebook</a></li><li class=\"twitter\"><a target=\"_blank\" rel=\"nofollow\" href=\"https://twitter.com/timesofindia\" pg=\"Footer-Social_Section#Click-twitter\"><i></i>twitter</a></li><li class=\"rss\"><a href=\"https://timesofindia.indiatimes.com/rss.cms\" pg=\"Footer-Social_Section#Click-rss_feed\"><i></i>rss feed</a></li><li class=\"youtube\"><a rel=\"nofollow\" href=\"https://www.youtube.com/timesofindia\" pg=\"Footer-Social_Section#Click-youtube\"><i></i>youtube</a></li></ul></div></div><div class=\"column\"><div class=\"download-apps\"><h2>download toi app</h2><ul><li class=\"android\"><a rel=\"nofollow\" href=\"https://play.google.com/store/apps/details?id=com.toi.reader.activities&amp;utm_source=TOInewHP_TILwidget&amp;utm_medium=ABtest&amp;utm_campaign=TOInewHP\" pg=\"Footer-App_Download#Click-android\"><i></i>android</a></li><li class=\"iphone\"><a rel=\"nofollow\" href=\"https://itunes.apple.com/us/app/the-times-of-india/id427589329?utm_source=TOInewHP_TILwidget&amp;utm_medium=ABtest&amp;utm_campaign=TOInewHP\" pg=\"Footer-App_Download#Click-iphone\"><i></i>iphone</a></li><li class=\"blackberry\"><a rel=\"nofollow\" href=\"http://appworld.blackberry.com/webstore/content/36532/?utm_source=TOInewHP_TILwidget&amp;utm_medium=ABtest&amp;utm_campaign=TOInewHP\" pg=\"Footer-App_Download#Click-BlackBerry\"><i></i>BlackBerry</a></li><li class=\"ipad\"><a rel=\"nofollow\" href=\"https://itunes.apple.com/us/app/the-times-of-india-for-ipad/id427164653?utm_source=TOInewHP_TILwidget&amp;utm_medium=ABtest&amp;utm_campaign=TOInewHP\" pg=\"Footer-App_Download#Click-ipad\"><i></i>ipad</a></li><li class=\"windows\"><a rel=\"nofollow\" href=\"http://www.windowsphone.com/en-in/store/app/the-times-of-india/26c39c5c-7a5a-4173-9a93-7c5bd539d4c8?utm_source=TOInewHP_TILwidget&amp;utm_medium=ABtest&amp;utm_campaign=TOInewHP\" pg=\"Footer-App_Download#Click-windows_phone\"><i></i>windows phone</a></li></ul></div></div></div></div></div><div class=\"level3\"><div class=\"wrapper\"><a class=\"logo\" href=\"https://timesofindia.indiatimes.com\"></a><div class=\"links\"><ul><li><a target=\"_blank\" rel=\"nofollow\" href=\"http://www.timesinternet.in\" pg=\"Footer-Badge#Click-About_us\">About us </a></li><li><a target=\"_blank\" rel=\"nofollow\" href=\"https://www.colombiaonline.com/expresso/selfservice/loginSelfService.htm\" pg=\"Footer-Badge#Click-Create_Your_Own_Ad\">Create Your Own Ad </a></li><li><a target=\"_blank\" rel=\"nofollow\" href=\"http://www.indiatimes.com/termsandcondition\" pg=\"Footer-Badge#Click-Terms_of_Use_and_Grievance_Redressal_Policy\">Terms of Use and Grievance Redressal Policy </a></li><li><a target=\"_blank\" rel=\"nofollow\" href=\"http://www.indiatimes.com/privacypolicy\" pg=\"Footer-Badge#Click-Privacy_policy\" class=\"eu-hidden\">Privacy policy </a><a target=\"_blank\" rel=\"nofollow\" href=\"https://timesofindia.indiatimes.com/privacy-policy\" pg=\"Footer-Badge#Click-Privacy_policy\" class=\"eu-only\">Privacy policy </a></li><li><a target=\"_blank\" href=\"http://advertise.indiatimes.com/\" rel=\"nofollow\" pg=\"Footer-Badge#Click-Advertise_with_us\">Advertise with us </a></li><li><a href=\"https://timesofindia.indiatimes.com/rss.cms\" pg=\"Footer-Badge#Click-RSS\">RSS </a></li><li class=\"eu-hidden\"><a href=\"/newsletterhome.cms\" pg=\"Footer-Badge#Click-Newsletter\">Newsletter </a></li><li class=\"eu-hidden\"><a href=\"https://timesofindia.indiatimes.com/feedback.cms\" pg=\"Footer-Badge#Click-Feedback\">Feedback </a></li><li class=\"eu-hidden\"><a target=\"_blank\" rel=\"nofollow\" href=\"http://epaper.timesofindia.com/\" pg=\"Footer-Badge#Click-ePaper\">ePaper </a></li><li><a href=\"/sitemap.cms\" pg=\"Footer-Badge#Click-Sitemap\">Sitemap </a></li><li><a href=\"/archive.cms\" pg=\"Footer-Badge#Click-Archives\">Archives </a></li><li><a href=\"/india/dnpa-code-of-ethics-for-digital-news-websites/articleshow/78840462.cms\" pg=\"Footer-Badge#Click-Archives\">DNPA Code of Ethics</a></li></ul></div></div></div><script type=\"text/x-jsrender\" id=\"weather-new-tmpl\">\n                \n                    <span class=\"temp_h\">\n                    {{if cityName}}\n                             {{:cityName}}\n                    {{/if}}\n                    </span>\n                    <span class=\"temp_g\">\n                        <a href=\"/weather/city-{{:cityName}}.cms\" target=\"_blank\">\n                            <span class=\"icon {{:iconClass}}\"></span>\n                            <span class=\"temp\">\n                                <span class=\"wdC\">{{:tempC}}&#xB0;<small>C</small></span>\n                                <span class=\"wdF\">{{:tempF}}&#xB0;F</span>\n                            </span>\n                        </a>\n                    </span>\n                    <span class=\"optionshome\">\n                        <a pg=\"#Change-Fahrenheit~Header-Weather\" onclick=\"$('.wdF').hide();$('.wdC').show();$('#wdCid').hide();$('#wdFid').show();\" style=\"cursor: pointer; display: none;\" id=\"wdCid\">°C</a>\n                        <a pg=\"#Change-Celcius~Header-Weather\" onclick=\"$('.wdC').hide();$('.wdF').show();$('#wdFid').hide();$('#wdCid').show();\" style=\"cursor: pointer;\" id=\"wdFid\">&#xB0;F</a>\n                    </span>\n                    <a href=\"/weather.cms\" target=\"_blank\" class=\"arrow\" pg=\"#Click~Header-Weather\">»</a>\n                \n            </script><script type=\"text/javascript\">\n                \n                (function(){\n                    var showTOIPlusinNav = false;\n                    if( ([\"toidev.indiatimes.com\", \"toistg.indiatimes.com\"].indexOf(document.location.hostname) > -1) ){\n                        if(document.location.search.indexOf('geolocation=1') > -1) {\n                            showTOIPlusinNav = true;\n                        }\n                    }\n                    else if(window._geo != 'undefined' && window._geo == '1'){\n                        showTOIPlusinNav = true;\n                    }\n                    if(showTOIPlusinNav){\n                        var toiplusinNavEle = document.querySelector(\"#main-nav>ul>li.toiplus\");\n                        if(typeof(toiplusinNavEle) != 'undefined' && toiplusinNavEle != null){\n                            document.querySelector(\"#main-nav>ul>li.toiplus\").style.display = \"inline-block\"; \n                        }\n                    }\n                })();\n                \n        </script><div class=\"wrapper\"><p>Copyright &copy; 2020 Bennett, Coleman &amp; Co. Ltd. All rights reserved. For reprint rights: <a href=\"#\">Times Syndication Service</a></p></div><!--/toifooter.cms?s=&version=4&newlogin=potime:3--></footer><footer id=\"footer_m\"><h2><span>More from our network</span></h2><ul class=\"clearfix\"><li><a rel=\"nofollow\" href=\"http://tamil.samayam.com\" class=\"track\">Tamil News</a></li><li><a rel=\"nofollow\" href=\"http://telugu.samayam.com\" class=\"track\">Telugu News</a></li><li><a rel=\"nofollow\" href=\"http://vijaykarnataka.indiatimes.com\" class=\"track\">Kannada News</a></li><li><a rel=\"nofollow\" href=\"http://malayalam.samayam.com\" class=\"track\">Malayalam News</a></li><li><a rel=\"nofollow\" href=\"http://m.economictimes.com\" class=\"track\">ET Mobile</a></li><li><a rel=\"nofollow\" href=\"http://m.indiatimes.com\" class=\"track\">Indiatimes</a></li><li><a rel=\"nofollow\" href=\"http://m.timesjobs.com?src=toim\" class=\"track\">Times Jobs</a></li><li><a rel=\"nofollow\" href=\"http://m.follo.co.in\" class=\"track\">Follo</a></li><li><a rel=\"nofollow\" href=\"http://m.greetzap.in\" class=\"track\">GreetZap</a></li><li><a rel=\"nofollow\" href=\"http://aliveapp.in\" class=\"track\">Alive</a></li><li><a rel=\"nofollow\" href=\"http://www.activeworld.mobi\" class=\"track\">Active World</a></li><li><a rel=\"nofollow\" href=\"http://m.magicbricks.com?source=toim\" class=\"track\">Magicbricks</a></li><li><a rel=\"nofollow\" href=\"http://m.ads2book.com?src=toim\" class=\"track\">Ads 2 Book</a></li><li><a rel=\"nofollow\" href=\"http://www.astrospeak.com/\" class=\"track\">Astrospeak</a></li><li><a rel=\"follow\" href=\"http://m.navbharattimes.indiatimes.com/\" class=\"track\">Navbharat Times</a></li><li><a target=\"_blank\" href=\"https://longwalks.onelink.me/OzWN/longwalksapp\" rel=\"nofollow\" class=\"track\">Longwalks App</a></li></ul><h2><span>Hot on the web</span></h2><ul><li><a title=\"Neha bidaai video\" href=\"https://timesofindia.indiatimes.com/tv/news/hindi/indian-idol-12-judge-neha-kakkars-bidaai-ceremony-will-make-your-hearts-heavy-watch-more-inside-pics-videos-from-the-wedding/articleshow/78855722.cms\">Neha bidaai video</a></li><li><a title=\"Neha Kakkar Video\" href=\"https://timesofindia.indiatimes.com/tv/news/hindi/watch-neha-kakkar-and-rohanpreet-get-married-in-a-gurudwara-take-pheras-in-presence-of-family-and-friends/articleshow/78844531.cms\">Neha Kakkar Video</a></li><li><a title=\"Neha-Rohanpreet Wedding\" href=\"https://timesofindia.indiatimes.com/tv/news/hindi/finally-its-time-for-neha-kakkar-and-rohanpreet-singhs-dilli-wali-shaadi/articleshow/78843146.cms\">Neha-Rohanpreet Wedding</a></li><li><a title=\"Neha Wedding Photos\" href=\"https://timesofindia.indiatimes.com/tv/news/hindi/bride-to-be-neha-kakkar-and-rohanpreet-singh-twin-in-green-at-their-mehendi-ceremony-see-all-the-photos/photostory/78842928.cms\">Neha Wedding Photos</a></li><li><a title=\"Huge age gap\" href=\"https://timesofindia.indiatimes.com/tv/news/hindi/gauahar-khan-zaid-darbar-neha-kakkar-rohanpreet-tv-couples-who-have-a-huge-age-gap/photostory/78829826.cms\">Huge age gap</a></li><li><a title=\"Neha Marriage Images\" href=\"https://timesofindia.indiatimes.com/tv/news/hindi/photos-from-neha-kakkar-and-rohanpreet-singhs-gurudwara-wedding-in-delhi/photostory/78846275.cms\">Neha Marriage Images</a></li></ul><h2><span>Trending topics</span></h2><ul><li><a title=\"Happy Dussehra Wishes\" href=\"https://timesofindia.indiatimes.com/life-style/events/happy-dussehra-2020-top-50-wishes-messages-quotes-images-to-share-with-your-family-and-friends/articleshow/78831792.cms\">Happy Dussehra Wishes</a></li><li><a title=\"Dussehra Wishes\" href=\"https://timesofindia.indiatimes.com/life-style/events/happy-dussehra-2020-wishes-messages-quotes-images-facebook-whatsapp-status/articleshow/78848782.cms\">Dussehra Wishes</a></li><li><a title=\"Vijaya Dashami Wishes\" href=\"https://timesofindia.indiatimes.com/life-style/books/features/vijaya-dashami-wishes-happy-dusshera-2020-quotes-wishes-messages-status-quotes-about-good-winning-over-evil-from-literature/articleshow/78846316.cms\">Vijaya Dashami Wishes</a></li><li><a title=\"Dussehra Puja Vidhi\" href=\"https://timesofindia.indiatimes.com/life-style/events/dussehra-2020-date-times-puja-vidhi-shubh-mahurat-and-all-you-need-to-know/articleshow/78843305.cms\">Dussehra Puja Vidhi</a></li><li><a title=\"Happy Dussehra Images\" href=\"https://timesofindia.indiatimes.com/life-style/events/happy-dussehra-2020-images-quotes-wishes-messages-pictures-and-greetings/articleshow/78841988.cms\">Happy Dussehra Images</a></li><li><a title=\"Dussehra Greeting Cards\" href=\"https://timesofindia.indiatimes.com/life-style/events/happy-dussehra-2020-images-wishes-messages-quotes-pictures-and-greeting-cards/articleshow/78843299.cms\">Dussehra Greeting Cards</a></li><li><a title=\"Navratri B-town celebs\" href=\"https://timesofindia.indiatimes.com/entertainment/hindi/bollywood/news/priyanka-chopra-jonas-to-alia-bhatt-you-cant-miss-these-throwback-pictures-of-b-town-celebs-celebrating-navratri/photostory/78806395.cms\">Navratri B-town celebs</a></li><li><a title=\"Salman Khan\" href=\"https://timesofindia.indiatimes.com/entertainment/hindi/bollywood/news/throwback-thursday-when-salman-khan-revealed-why-he-refused-to-do-shah-rukh-khans-baazigar-and-chak-de-india/articleshow/78806422.cms\">Salman Khan</a></li><li><a title=\"Suhana Khan\" href=\"https://timesofindia.indiatimes.com/entertainment/hindi/bollywood/news/these-unseen-photos-of-suhana-khan-from-dubai-deserve-your-attention/articleshow/78807481.cms\">Suhana Khan</a></li></ul><hr><ul><li><a rel=\"nofollow\" href=\"http://www.timesinternet.in/\">About us</a></li><li><a rel=\"nofollow\" href=\"http://www.indiatimes.com/termsandcondition\">Terms of use</a></li></ul><p>Copyright &copy; 2020 Bennett, Coleman &amp; Co. Ltd. All rights reserved.For reprint rights: <a href=\"http://timescontent.com/\" class=\"track\" data-track=\"toifooter_tss\">Times Syndication Service</a></p><!--/toifooter_mobile.cms?s=&version=11&newlogin=potime:2--></footer><!--Server: 98--><link media=\"screen\" type=\"text/css\" rel=\"stylesheet\" href=\"/slick_css/version-1,minify-1.cms\"><script src=\"/slick_min_js_v18/version-1,minify-1.cms\" type=\"text/javascript\"></script><script type=\"text/javascript\" src=\"https://image.timespoints.iimg.in/static/tpsdk/tp-sdk.js\"></script><script src=\"/jsrender/version-1.cms\" type=\"text/javascript\"></script><script src=\"https://jssocdn.indiatimes.com/crosswalk/jsso_crosswalk_legacy_0.5.3.min.js\" type=\"text/javascript\"></script><script defer=\"true\" async=\"true\" src=\"https://www.google.com/recaptcha/api.js\"></script><link href=\"/usermanagementcssv2/version-20,minify-1.cms\" media=\"screen\" type=\"text/css\" rel=\"stylesheet\"><script type=\"text/javascript\" src=\"/toi_js/version-589,minify-1.cms\"></script><script src=\"/pn/version-39,minify-1.cms\" type=\"text/javascript\"></script><script>\n        (function(){\n          if (TimesGDPR && TimesGDPR.common.consentModule.gdprCallback){\n                TimesGDPR.common.consentModule.gdprCallback(function(dataObj){ //Block for EU users\n                    var showJs = !dataObj.isEUuser || (dataObj && dataObj.isEUuser && !dataObj.didUserOptOut);\n                        \n                    if(showJs){\n                        var pbjsEl = document.createElement(\"script\");\n                        pbjsEl.type = \"text/javascript\";\n                        pbjsEl.async = true;\n                        pbjsEl.src = \"https://static.clmbtech.com/ase/2658/3/aa.js\";\n                        pbjsEl.onload = function(){\n                            \n                        }\n                        var pbjsTargetEl = document.getElementsByTagName(\"head\")[0];\n                        pbjsTargetEl.insertBefore(pbjsEl, pbjsTargetEl.firstChild);\n                    }\n                });\n            }\n        })();\n        </script><script type=\"text/javascript\">\n        $(function() {\n            $('.mobilenavimg').click(function() {\n                $('#navigation').find('.level-one').slideToggle();\n                $(this).toggleClass('active');\n            });\n            $('.mob_subNav').click(function() {\n                $(this).siblings().removeClass('current');\n                $(this).siblings().find('ul').slideUp();\n                $(this).addClass('current');\n                $(this).find('ul').slideDown();\n            });\n            $(window).resize(function() {\n                if($(window).width() > 767){$(\".level-one\").show(); $(\".mob_subNav_val\").hide();}\n            });\n        });\n    </script></div><div id=\"c_1\"  ><div id=\"div-gpt-ad-1388142474739-0-oop1\" style=\"width: 1`...000px;margin: 0px auto;\"  data-adsSlot=\"TOI/TOI_ROS/TOI_ROS_AL/TOI_ROS_OP_AL_Innov1\" class=\"webonly\"></div></div><div id=\"c_listingjs_css_2\"  ><link href=\"https://fonts.googleapis.com/css?family=Roboto:400,700\" rel=\"stylesheet\" type=\"text/css\"><script src=\"/gallerywidgetjs/minify-1,version-7.cms\" async=\"async\" type=\"text/javascript\"></script></div></div></div><div id=\"c_05\" ><div id=\"c_0501\"  ></div></div><script type='text/javascript' src='/indiaarticlelist.cms.js?version=34cb53e8b5bd19543fe875d9cbb0786&minify=1'></script></body></html>\n"
          ]
        }
      ]
    },
    {
      "cell_type": "code",
      "metadata": {
        "id": "l7ZFOnXbfwam",
        "outputId": "783e6873-bd8c-4a11-b49d-434a6d187fc0",
        "colab": {
          "base_uri": "https://localhost:8080/",
          "height": 1000
        }
      },
      "source": [
        "from bs4 import BeautifulSoup as bs\n",
        "\n",
        "soup = bs(page.text , \"html.parser\")\n",
        "print(soup.get_text())"
      ],
      "execution_count": 11,
      "outputs": [
        {
          "output_type": "stream",
          "name": "stdout",
          "text": [
            "India News | Latest News Headlines & Live Updates from India - Times of India+TOI TimesPointsHOW TO EARNMY ACTIVITYFAQsmoreDAILY CHECK-INS: 0/5 completedYou must login to keep earning daily check-in pointsREDEEM YOUR TIMES POINTSVIEW ALLLifetime0Expired0Redeemed0Total redeemable TimesPoints0redeem* TimesPoints expire in 1 year from the day of creditTODAY’S ACTIVITYREDEEM POINTSVisit TOI Daily & Earn Times PointsKNOW MORESun, Oct 25, 2020 | Updated 06.37PM ISTHI, Edit ProfileMy TimesRedeemLOGOUTSign InNotification CenterIndia NewsBriefsWorldBusinessSportsEntertainmentTVLifestylePhotosEducationPoliticsElectionsIndiaLAC Face-offCoronavirus OutbreakOpinions and FeaturesTimes EvokeMaharashtraDelhiKarnatakaTamil NaduTelanganaUttar PradeshWest BengalGujaratMadhya PradeshBiharChandigarhRajasthanArunachal PradeshAndhra PradeshAssamChhattisgarhGoaHaryanaHimachal PradeshJammu and KashmirJharkhandKeralaManipurMeghalayaMizoramNagalandOdishaPunjabSikkimTripuraUttarakhandAndaman and Nicobar IslandsDadra and Nagar HaveliDaman and DiuLakshadweepPondicherryTimes Health Survey + News / India NewsTop Searches:Coronavirus in IndiaCovid cases in IndiaMann ki BaatPM ModiCovid vaccineBihar election dateBihar Elections 2020Mehbooba Mufti - GEO Location\nIndia News\nCongress has formed 'radical syndicate' with Jamaat-e-Islami, PFI; RJD also its part: BJPPunjab govt acted swiftly in Hoshiarpur case in contrast to UP govt in Hathras incident: Amarinder SinghUnfortunate that opposition has become directionless: NaddaCentre files affidavit before SC in loan moratorium caseModi to inaugurate conference on vigilance and anti-corruptionJust a week before MP bypolls, Congress MLA from Damoh joins BJP'Mr Bhagwat knows the truth': Rahul Gandhi on RSS chief's remark on ChinaVideosHRD ministry renamed as education ministry00:58Covid-19: Govt ready with tech-driven plan for 7 key areas02:09Trade to trains: India goes all out to woo Bhutan01:28With more work and better pay, deliverymen are on a roll again00:57Ambulances fleece desperate Covid patients01:55Tractors plough their way out of slump01:25'Print media on frontline of Covid battle'01:28Video surfaces of Kanpur gangster Vikas Dubey03:06LAC: IAF enhancing deployment of front line jets06:23International students in US may be deported01:19XIndia-US 2+2 talks: China's LAC aggression, key military pact on agenda'No place for arrogance, breaking of promises in a ruler's life': Sonia Gandhi's Dussehra messageModi to interact with PM SVANidhi beneficiaries in UP on Oct 27Jamiat slams 'negative propaganda' against madrasas, calls new education policy 'discriminatory'National e-book to compile social works carried out by Centre: JP NaddaPM Modi to interact with beneficiaries of scheme to help street vendorsPM Modi lauds innovators in agriculture, Pulwama based entrepreneurCovid-19: Recovery rate touches 90%; only 8.5% of total caseload active in IndiaPhotosDelhi chokes on 'severe' smog as farm fires soar2020-10-23 15:48:17.0Doctors hold protest over delayed salaries2020-10-23 09:51:07.0Devotees celebrate Durga Puja with COVID-19 safety protocols2020-10-22 10:29:27.0Bihar CM Nitish Kumar intensifies election campaign2020-10-20 12:08:15.0Nation gears up for Durga Puja celebrations amid coronavirus pandemic2020-10-20 10:29:21.0COVID-19 casts its shadow on Navratri festivities2020-10-19 15:50:18.0Flash floods hit Hyderabad again as rains return2020-10-19 10:48:20.0Heavy downpour lashes Pune2020-10-15 17:30:46.0Massive rains claim 30 lives in Telangana2020-10-15 10:55:43.0Massive rain disrupts normal life in Hyderabad2020-10-14 10:06:42.0Arvind Kejriwal joins protest against farm laws2020-10-13 14:14:41.0Clashes break out after two suspected terrorists killed in Kashmir2020-10-13 12:01:39.0Bhagwat knows China took our land, but scared to face it: RahulPlease don't presume what SC will say on restoration of Article 370: Omar takes swipe at PrasadIn Bihar, political stability did not result in prosperityBJP leader seeks de-recognition of Mehbooba-led PDP over 'anti-national' remarksPM Modi highlights contribution of political, spiritual leaders who strived for unity and integrity of IndiaPM Modi urges people to observe festivals with modesty, be 'vocal for local' while shoppingRemember soldiers guarding our borders, light a 'diya' for them: PM ModiTruth ultimately triumphs: Rahul greets people on DussehraPM Narendra Modi's 'Mann ki Baat' address: Key pointsCovid-19: India records 50,129 fresh cases, 578 deathsTruth ultimately triumphs: Rahul greets people on DussehraSecond VVIP aircraft for President, PM arrives in DelhiHindutva is essence of India's self-hood: Mohan BhagwatIndia wants end to border tension with China but will not cede an inch of land: RajnathRSS chief Mohan Bhagwat's address on Dussehra: Key pointsPM Modi greets people on Vijaya DashamiHow 9 men fought death for 55 daysIndia should be bigger than China in power and scope: Mohan BhagwatRSS chief lists Article 370 abrogation, Ram Mandir bhoomipujan, CAA as 'noteworthy incidents' in annual Dussehra's addressPresident Kovind wishes countrymen on DussehraPM Modi to address nation through 'Mann Ki Baat' todayPM Modi greets countrymen on Mahanavami‘Cyclists, pedestrians & 2-wheeler riders accounted for 57% of road fatalities in ’19’Wrong-side driving 2nd biggest cause of deaths on NHs: ReportDrug peddler tied to arrested South African heldStop making provocative, irresponsible remarks on national flag: Congress to MuftiNine fishermen from Chennai adrift in the Bay of Bengal for 55 days. How did they survive? How did one go missing?Devendra Fadnavis tests positive for CovidRepublic staffer records statement in ‘disaffection’ caseMP minister makes coarse remarks at Kamal NathFranklin Templeton needs investors’ nod to wind up MFs: HCCIC headless for two months, pending cases mount to 37,000Unlike in UP, there’s no cover-up: Rahul GandhiAmarinder hits back at BJP politiciansThree TV channel directors, owners dubbed accused12345678Education NewsNEET answer key 2020 released, check hereDelhi University admission 2020: 1st cutoff list on Oct 12, classes to begin from Nov 18UPSC Prelims 2020: SC to hear plea for postponing examJEE Advanced 2020: Foreign IIT aspirants to fly to India for examDU students prefer online over offline mode of examsICSE, ISC compartmental & improvement results to be declared on October 17UGC NET Exam Analysis 2020: Check expert review & feedback from studentsCBSE 12th compartment results 2020 to be declared by October 10\n Coronavirus outbreakCoronavirus symptomsCoronavirus PrecautionsCoronavirus live newsCOVID-19 casesCovid-19 vaccineCoronavirus DO's & Dont'sMOST POPULARREADCOMMENTEDSHAREDIN THIS SECTIONENTIRE WEBSITEMumbai couple gifted honeymoon land in Qatar jail, NCB to their aidMumbai Central mall fire: 3,500 people evacuated from adjacent tower‘Dinosaur eggs’ found in TN’s Perambalur are ammonite sediments, geology enthusiasts sayPune's leading motorcycle dealer 'goes missing', leaves noteMORE POPULAR NEWSAlso InsideIndia NewsPM Modi to interact with beneficiaries of scheme to help street vendorsCovid-19: India's national recovery rate touches 90 per centBJP leader seeks de-recognition of Mehbooba-led PDP over 'anti-national' remarksWorld News\n\t\t\t\t\t\t\t\t\tEgyptians vote in 2nd day of parliamentary electionsQatar could get F-35s 'sooner or later': IsraeliPak's Oppn alliance to hold anti-govt rally in QuettaBusiness News\n\t\t\t\t\t\t\t\t\tSamsung's Lee leaves behind $21bn wealth for inheritanceYes Bank lacked cost control: CEO KumarOnion prices drop by up to Rs 10/kg on govt action against hoardingEntertainment News\n\t\t\t\t\t\t\t\t\t#BigInterview with Aamna Sharif: Believe in destinyThrowback: When SRK fooled GauriRanbir and fam arrive at Alia's residenceLife & Style NewsGlam beauty looks to try this festive seasonPandemic shouldn't stop you from getting mammogramsWhy Indian women consider arranged marriages over love, as per studiesNRI NewsSingapore court rejects Indian national's appeal in molestation case; sent to jailIndian-origin billionaire brothers, academic, Skipping Sikh on Queen's honours listIndian-origin Sikh councillor suspended from Conservative Party after saying he ‘did not like Muslims’Education NewsNine girls take charge as officers for a day in UPBhagwat welcomes Centre's new agri reforms, education policyOlympiad exams to be conducted online this yearTV NewsFun-filled moments from Nehupreet's weddingBB14: Shardul and Naina fight on their entryInside pics, videos from Neha Kakkar's weddingGadgets NewsChina has ‘good news’ for Apple despite tensions with USHow Google paid ‘tribute’ to Pele on his 80th birthdayWhat you will pay for iPhone 12, 12 Pro in these countriesVideosMan ‘live-streamed sex’ with two wives for money, held in MP01:45Kim Sharma posts stunning throwback bikini picture00:50Hansal on 'painful' work experience with Kangana01:04MP: Senior cop laughs after man falls in her feet seeking justice in his son's death case00:45UP CM Yogi Adityanath offers prayers03:04From Around the WebMore From The Times of IndiaRecommended By Colombia\n                        \t    moreGood GovernanceStateState47082088Centre47092522Uttar Pradesh47082156Delhi47082178Gujarat47082164Rajasthan47136889Madhya Pradesh47093320Maharashtra47093057West Bengal47093424Odisha47091662Tamil Nadu47093514Karnataka47093501Uttarakhand47093411Tripura47093409Punjab47093396Puducherry47093388Nagaland47093349Mizoram47093332Manipur47093325Kerala47093312Jammu kashmir47093307Himachal Pradesh47093300Goa47093287Chattisgarh47093283Bihar47093272Assam47093262Arunachal Pradesh47093254Andhra Pradesh47093246Haryana47082185NGO47082189PSUPSUPunjab govt approves 33 per cent reservation forCentre to give cash vouchers to staff in lieu ofGovernment launches 100-day campaign under JalGovt launches initiative to promote innovation andDussera gift: Telangana govt to distribute nearlyLike what you see?Keep up with the latest by following us onand subscribe to ourDaily Newslettersubscribe now!Quick LinksCoronavirus in MumbaiCoronavirus in KolkataCoronavirus in HyderabadCoronavirus in DelhiCoronavirus in BangaloreCoronavirus symptomsCoronavirus in IndiaBihar elections 2020Coronavirus NewsSolar EclipseNPRWhat is NRCCAB BillCAB and NRCRTI BillPodcast newsLok SabhaUS Election 2020CongressBJP newsUIDAIIndian ArmyISRO newsSupreme CourtTrending in IndiaLatest newsNewsCOVID-19 in WorldCoronavirus IndiaCoronavirusIndia China newsJyotiraditya ScindiaOmar AbdullahSachin PilotAsaduddin OwaisiMayawatiRajnath SinghOther Times Group news sitesThe Economic TimesHindi Economic TimesNavbharat TimesMaharashtra TimesVijaya KarnatakaTelugu SamayamTamil SamayamMalayalam SamayamEi SamayI am GujaratTimes NowTimes Now HindiTimesPointsIndiatimesBrand CapitalEducation TimesTimes FoodMiss KyraMumbai MirrorPune MirrorAhmedabad MirrorBangalore MirrorMX PlayerHindi PodcastBengali PodcastMX ShareKaroMX TakaTak AppLiving and entertainmentiDiva MensXP.com Femina ETimesGrazia Zoom Travel Destinations Bombay Times Cricbuzz.com Filmfare Online Songs TVLifestyle Longwalks AppNewspaper SubscriptionFood NewsTimes PrimeWhats Hottop trendsNarendra ModiBihar election 2020Coronavirus India update liveCoronavirus vaccineCSK vs RCB Live ScoreDonald TrumpMann ki Baat liveWeekly HoroscopeITR Filing Last DateRajasthan Police Constable ExamUS Election 2020Vijayadashami 2020Bangalore news liveDussehra 2020 dateNewsDurga Ashtami 2020 dateHoroscope todayStep by Step Pizza RecipeservicesAds 2 BookBank Exam AppET Money Finance AppCouponDuniaDineoutMagicbricksTechgigTimes JobsBollywood NewsTimes MobileRemit 2 IndiaTC NextAstro SpeakGadgets NowCareersColombiaPopular CategoriesHeadlinesSports NewsBusiness NewsIndia NewsWorld NewsBollywood NewsHealth & Fitness TipsIndian TV ShowsCelebrity Photoshot on the webNeha bidaai videoNeha Kakkar VideoNeha-Rohanpreet WeddingNeha Wedding PhotosHuge age gapNeha Marriage ImagesNeha KakkarNeha wedding outfitsCOVIDsymptomTrending topicsHappy Dussehra WishesDussehra WishesVijaya Dashami WishesDussehra Puja VidhiHappy Dussehra ImagesDussehra Greeting CardsNavratri B-town celebsSalman KhanSuhana KhanChiranjeevi SarjaHrithik RoshanRashmika MandannaOnePlus 8T Launch UpdatesFlipkart QuizAmazon App QuizPubg MobilePixel 5 FeatureAmazon Great Indian Festival Sale OffersBangalore RainsAmazon Great Indian FestivalAmazon Sale Today OffersFollow us onfacebooktwitterrss feedyoutubedownload toi appandroidiphoneBlackBerryipadwindows phoneAbout us Create Your Own Ad Terms of Use and Grievance Redressal Policy Privacy policy Privacy policy Advertise with us RSS Newsletter Feedback ePaper Sitemap Archives DNPA Code of EthicsCopyright © 2020 Bennett, Coleman & Co. Ltd. All rights reserved. For reprint rights: Times Syndication ServiceMore from our networkTamil NewsTelugu NewsKannada NewsMalayalam NewsET MobileIndiatimesTimes JobsFolloGreetZapAliveActive WorldMagicbricksAds 2 BookAstrospeakNavbharat TimesLongwalks AppHot on the webNeha bidaai videoNeha Kakkar VideoNeha-Rohanpreet WeddingNeha Wedding PhotosHuge age gapNeha Marriage ImagesTrending topicsHappy Dussehra WishesDussehra WishesVijaya Dashami WishesDussehra Puja VidhiHappy Dussehra ImagesDussehra Greeting CardsNavratri B-town celebsSalman KhanSuhana KhanAbout usTerms of useCopyright © 2020 Bennett, Coleman & Co. Ltd. All rights reserved.For reprint rights: Times Syndication Service\n"
          ]
        }
      ]
    },
    {
      "cell_type": "code",
      "metadata": {
        "id": "__nJ18g-sCRk",
        "outputId": "6d328dd5-c1e2-4797-f812-631dad8b454b",
        "colab": {
          "base_uri": "https://localhost:8080/",
          "height": 1000
        }
      },
      "source": [
        "\n",
        "import json\n",
        "\n",
        "toi_json = soup.find_all('script', type = 'application/ld+json')\n",
        "print(toi_json[2])"
      ],
      "execution_count": 19,
      "outputs": [
        {
          "output_type": "stream",
          "name": "stdout",
          "text": [
            "<script type=\"application/ld+json\">\n                {\n                \t\"@context\": \"https://schema.org\",\n                \t\"@type\": \"ItemList\",\n                \t\"itemListElement\":[\n                \t\n                        {\n                          \"@type\": \"ListItem\",\n                          \"position\": \"1\",\n                          \"url\":\"https://timesofindia.indiatimes.com/india/congress-has-formed-radical-syndicate-with-jamaat-e-islami-pfi-rjd-also-its-part-bjp/articleshow/78858972.cms\",\n                          \"name\":\"Congress has formed 'radical syndicate' with Jamaat-e-Islami, PFI; RJD also its part: BJP\"\n                          }\n                        ,\n                        {\n                          \"@type\": \"ListItem\",\n                          \"position\": \"2\",\n                          \"url\":\"https://timesofindia.indiatimes.com/india/punjab-govt-acted-swiftly-in-hoshiarpur-case-in-contrast-to-up-govt-in-hathras-incident-amarinder-singh/articleshow/78858731.cms\",\n                          \"name\":\"Punjab govt acted swiftly in Hoshiarpur case in contrast to UP govt in Hathras incident: Amarinder Singh\"\n                          }\n                        ,\n                        {\n                          \"@type\": \"ListItem\",\n                          \"position\": \"3\",\n                          \"url\":\"https://timesofindia.indiatimes.com/india/unfortunate-that-opposition-has-become-directionless-nadda/articleshow/78858613.cms\",\n                          \"name\":\"Unfortunate that opposition has become directionless: Nadda\"\n                          }\n                        ,\n                        {\n                          \"@type\": \"ListItem\",\n                          \"position\": \"4\",\n                          \"url\":\"https://timesofindia.indiatimes.com/india/centre-files-affidavit-before-sc-in-loan-moratorium-case/articleshow/78858538.cms\",\n                          \"name\":\"Centre files affidavit before SC in loan moratorium case\"\n                          }\n                        ,\n                        {\n                          \"@type\": \"ListItem\",\n                          \"position\": \"5\",\n                          \"url\":\"https://timesofindia.indiatimes.com/india/modi-to-inaugurate-conference-on-vigilance-and-anti-corruption/articleshow/78858376.cms\",\n                          \"name\":\"Modi to inaugurate conference on vigilance and anti-corruption\"\n                          }\n                        ,\n                        {\n                          \"@type\": \"ListItem\",\n                          \"position\": \"6\",\n                          \"url\":\"https://timesofindia.indiatimes.com/india/just-a-week-before-mp-bypolls-congress-mla-from-damoh-joins-bjp/articleshow/78858275.cms\",\n                          \"name\":\"Just a week before MP bypolls, Congress MLA from Damoh joins BJP\"\n                          }\n                        ,\n                        {\n                          \"@type\": \"ListItem\",\n                          \"position\": \"7\",\n                          \"url\":\"https://timesofindia.indiatimes.com/india/mr-bhagwat-knows-the-truth-rahul-gandhi-on-rss-chiefs-remark-on-china/articleshow/78858302.cms\",\n                          \"name\":\"'Mr Bhagwat knows the truth': Rahul Gandhi on RSS chief's remark on China\"\n                          }\n                        \n                \t],\n                \t\"itemListOrder\":\"https://schema.org/ItemListUnordered\",    \n                \t\"numberOfItems\":\"7\",\n                \t\"description\": \"India News: Times of India brings the top news headlines from India on Politics, Current Affairs, Sports, Entertainment, Technology and Indian Business News.\",\n                \t\"url\":\"https://timesofindia.indiatimes.com\"\n                }\n            </script>\n"
          ]
        }
      ]
    },
    {
      "cell_type": "code",
      "metadata": {
        "id": "nJu591UgtCDq",
        "outputId": "6bd45bac-4fe1-4e1f-9ed7-7b7d5d9371a1",
        "colab": {
          "base_uri": "https://localhost:8080/",
          "height": 55
        }
      },
      "source": [
        "data_1 =  json.loads(toi_json[2].string)\n",
        "\n",
        "#print(toi_json[2].string)\n",
        "print(data_1)"
      ],
      "execution_count": 30,
      "outputs": [
        {
          "output_type": "stream",
          "name": "stdout",
          "text": [
            "{'@context': 'https://schema.org', '@type': 'ItemList', 'itemListElement': [{'@type': 'ListItem', 'position': '1', 'url': 'https://timesofindia.indiatimes.com/india/congress-has-formed-radical-syndicate-with-jamaat-e-islami-pfi-rjd-also-its-part-bjp/articleshow/78858972.cms', 'name': \"Congress has formed 'radical syndicate' with Jamaat-e-Islami, PFI; RJD also its part: BJP\"}, {'@type': 'ListItem', 'position': '2', 'url': 'https://timesofindia.indiatimes.com/india/punjab-govt-acted-swiftly-in-hoshiarpur-case-in-contrast-to-up-govt-in-hathras-incident-amarinder-singh/articleshow/78858731.cms', 'name': 'Punjab govt acted swiftly in Hoshiarpur case in contrast to UP govt in Hathras incident: Amarinder Singh'}, {'@type': 'ListItem', 'position': '3', 'url': 'https://timesofindia.indiatimes.com/india/unfortunate-that-opposition-has-become-directionless-nadda/articleshow/78858613.cms', 'name': 'Unfortunate that opposition has become directionless: Nadda'}, {'@type': 'ListItem', 'position': '4', 'url': 'https://timesofindia.indiatimes.com/india/centre-files-affidavit-before-sc-in-loan-moratorium-case/articleshow/78858538.cms', 'name': 'Centre files affidavit before SC in loan moratorium case'}, {'@type': 'ListItem', 'position': '5', 'url': 'https://timesofindia.indiatimes.com/india/modi-to-inaugurate-conference-on-vigilance-and-anti-corruption/articleshow/78858376.cms', 'name': 'Modi to inaugurate conference on vigilance and anti-corruption'}, {'@type': 'ListItem', 'position': '6', 'url': 'https://timesofindia.indiatimes.com/india/just-a-week-before-mp-bypolls-congress-mla-from-damoh-joins-bjp/articleshow/78858275.cms', 'name': 'Just a week before MP bypolls, Congress MLA from Damoh joins BJP'}, {'@type': 'ListItem', 'position': '7', 'url': 'https://timesofindia.indiatimes.com/india/mr-bhagwat-knows-the-truth-rahul-gandhi-on-rss-chiefs-remark-on-china/articleshow/78858302.cms', 'name': \"'Mr Bhagwat knows the truth': Rahul Gandhi on RSS chief's remark on China\"}], 'itemListOrder': 'https://schema.org/ItemListUnordered', 'numberOfItems': '7', 'description': 'India News: Times of India brings the top news headlines from India on Politics, Current Affairs, Sports, Entertainment, Technology and Indian Business News.', 'url': 'https://timesofindia.indiatimes.com'}\n"
          ]
        }
      ]
    },
    {
      "cell_type": "code",
      "metadata": {
        "id": "WR5wabskuDn_",
        "outputId": "22ec7930-1655-4c33-849e-2ecf8aad0e02",
        "colab": {
          "base_uri": "https://localhost:8080/",
          "height": 72
        }
      },
      "source": [
        "print([d.get('name') for d in data_1['itemListElement'] if d.get('name')])\n",
        "j = [d.get('name') for d in data_1['itemListElement'] if d.get('name')]\n",
        "#\n",
        "print(j[0])"
      ],
      "execution_count": 31,
      "outputs": [
        {
          "output_type": "stream",
          "name": "stdout",
          "text": [
            "[\"Congress has formed 'radical syndicate' with Jamaat-e-Islami, PFI; RJD also its part: BJP\", 'Punjab govt acted swiftly in Hoshiarpur case in contrast to UP govt in Hathras incident: Amarinder Singh', 'Unfortunate that opposition has become directionless: Nadda', 'Centre files affidavit before SC in loan moratorium case', 'Modi to inaugurate conference on vigilance and anti-corruption', 'Just a week before MP bypolls, Congress MLA from Damoh joins BJP', \"'Mr Bhagwat knows the truth': Rahul Gandhi on RSS chief's remark on China\"]\nCongress has formed 'radical syndicate' with Jamaat-e-Islami, PFI; RJD also its part: BJP\n"
          ]
        }
      ]
    },
    {
      "cell_type": "markdown",
      "metadata": {
        "id": "P0GwzKOc9BTM"
      },
      "source": [
        "*Bit of a hard time getting here since there were multiple script tags but got here, now to extract all the data out.....*\n"
      ]
    },
    {
      "cell_type": "code",
      "metadata": {
        "id": "7-4Q-F2i9Ahf",
        "outputId": "66cb3f8c-0743-432c-a679-b452214a9805",
        "colab": {
          "base_uri": "https://localhost:8080/",
          "height": 52
        }
      },
      "source": [
        "articles = []\n",
        "summaries = soup.find_all('script', type = 'application/ld+json')\n",
        "for summary in summaries:\n",
        "    titles = json.loads(summary.string)\n",
        "    if(titles['@type'] == 'ItemList'):\n",
        "      data = [d.get('name') for d in titles['itemListElement'] if d.get('name')]\n",
        "      for i in range(len(data)):\n",
        "          articles.append((data[i])) \n",
        "    \n",
        "\n",
        "print(len(articles), \"Article summaries found. Sample:\")\n",
        "print(articles[0])"
      ],
      "execution_count": 33,
      "outputs": [
        {
          "output_type": "stream",
          "name": "stdout",
          "text": [
            "7 Article summaries found. Sample:\nCongress has formed 'radical syndicate' with Jamaat-e-Islami, PFI; RJD also its part: BJP\n"
          ]
        }
      ]
    },
    {
      "cell_type": "markdown",
      "metadata": {
        "id": "ltqoGktsAm5A"
      },
      "source": [
        "# Normalization | Stemming & Lemmatization"
      ]
    },
    {
      "cell_type": "markdown",
      "metadata": {
        "id": "0eqEtk3sdLit"
      },
      "source": [
        "*Convert to Lower Case, Remove Punctuation, Tokenise Sentence and Remove Stop Words*"
      ]
    },
    {
      "cell_type": "code",
      "metadata": {
        "id": "gtq2VHuzYnj-",
        "outputId": "9de6c9aa-aa5c-40ad-f2f5-a6af2fe412ad",
        "colab": {
          "base_uri": "https://localhost:8080/",
          "height": 104
        }
      },
      "source": [
        "import os\n",
        "import nltk\n",
        "nltk.data.path.append(os.path.join(os.getcwd(), \"nltk_data\"))\n",
        "nltk.download('punkt')\n",
        "nltk.download('stopwords')"
      ],
      "execution_count": null,
      "outputs": [
        {
          "output_type": "stream",
          "text": [
            "[nltk_data] Downloading package punkt to /root/nltk_data...\n",
            "[nltk_data]   Package punkt is already up-to-date!\n",
            "[nltk_data] Downloading package stopwords to /root/nltk_data...\n",
            "[nltk_data]   Unzipping corpora/stopwords.zip.\n"
          ],
          "name": "stdout"
        },
        {
          "output_type": "execute_result",
          "data": {
            "text/plain": [
              "True"
            ]
          },
          "metadata": {
            "tags": []
          },
          "execution_count": 23
        }
      ]
    },
    {
      "cell_type": "code",
      "metadata": {
        "id": "0oKo1avVlAkl"
      },
      "source": [
        "# Reset text\n",
        "text = \"Dr. Smith graduated from the University of Washington. He later started an analytics firm called Lux, which catered to enterprise customers.\"\n"
      ],
      "execution_count": null,
      "outputs": []
    },
    {
      "cell_type": "code",
      "metadata": {
        "id": "py_0wchIli8G",
        "outputId": "abca9e01-a6fb-45b4-f698-8856f47d6d6e",
        "colab": {
          "base_uri": "https://localhost:8080/",
          "height": 35
        }
      },
      "source": [
        "import re\n",
        "# Remove Punctuation and normalise\n",
        "lower_text = re.sub(r\"[^a-zA-Z0-9]\", \" \", text.lower())\n",
        "\n",
        "print(lower_text)"
      ],
      "execution_count": null,
      "outputs": [
        {
          "output_type": "stream",
          "text": [
            "dr  smith graduated from the university of washington  he later started an analytics firm called lux  which catered to enterprise customers \n"
          ],
          "name": "stdout"
        }
      ]
    },
    {
      "cell_type": "code",
      "metadata": {
        "id": "D9x4Wh7cmGXU",
        "outputId": "40661541-5a05-4d83-ecc5-9522091aee23",
        "colab": {
          "base_uri": "https://localhost:8080/",
          "height": 55
        }
      },
      "source": [
        "# Tokenise words\n",
        "from nltk.tokenize import sent_tokenize\n",
        "\n",
        "# Split text into sentences\n",
        "sentences = sent_tokenize(text.lower())\n",
        "print(sentences)"
      ],
      "execution_count": null,
      "outputs": [
        {
          "output_type": "stream",
          "text": [
            "['dr. smith graduated from the university of washington.', 'he later started an analytics firm called lux, which catered to enterprise customers.']\n"
          ],
          "name": "stdout"
        }
      ]
    },
    {
      "cell_type": "code",
      "metadata": {
        "id": "N4Ia-XjeVgmb",
        "outputId": "ea3fa8a4-e987-4fb9-87c5-957a79adffdc",
        "colab": {
          "base_uri": "https://localhost:8080/",
          "height": 89
        }
      },
      "source": [
        "# get rid of stop words\n",
        "from nltk.corpus import stopwords\n",
        "from nltk.tokenize import word_tokenize\n",
        "\n",
        "words_box = []\n",
        "for i in range(len(sentences)):\n",
        "  print(sentences[i])\n",
        "  words = word_tokenize(re.sub(r\"[^a-zA-Z0-9]\", \" \", sentences[i]))\n",
        "  words_box.append([w for w in words if w not in stopwords.words(\"english\")])\n",
        "  #print(words)\n",
        "\n",
        "print(words_box)\n"
      ],
      "execution_count": null,
      "outputs": [
        {
          "output_type": "stream",
          "text": [
            "dr. smith graduated from the university of washington.\n",
            "he later started an analytics firm called lux, which catered to enterprise customers.\n",
            "[['dr', 'smith', 'graduated', 'university', 'washington'], ['later', 'started', 'analytics', 'firm', 'called', 'lux', 'catered', 'enterprise', 'customers']]\n"
          ],
          "name": "stdout"
        }
      ]
    },
    {
      "cell_type": "code",
      "metadata": {
        "id": "5dA6fL6zp8n8",
        "outputId": "c666d2d7-d8f4-467f-f309-9b27b5bf6810",
        "colab": {
          "base_uri": "https://localhost:8080/",
          "height": 104
        }
      },
      "source": [
        "nltk.download('averaged_perceptron_tagger')\n"
      ],
      "execution_count": null,
      "outputs": [
        {
          "output_type": "stream",
          "text": [
            "[nltk_data] Downloading package averaged_perceptron_tagger to\n",
            "[nltk_data]     /root/nltk_data...\n",
            "[nltk_data]   Package averaged_perceptron_tagger is already up-to-\n",
            "[nltk_data]       date!\n"
          ],
          "name": "stdout"
        },
        {
          "output_type": "execute_result",
          "data": {
            "text/plain": [
              "True"
            ]
          },
          "metadata": {
            "tags": []
          },
          "execution_count": 101
        }
      ]
    },
    {
      "cell_type": "code",
      "metadata": {
        "id": "PrgdBcE-sB_-",
        "outputId": "f85e9921-ff99-4b3a-e294-7d6a3982c553",
        "colab": {
          "base_uri": "https://localhost:8080/",
          "height": 260
        }
      },
      "source": [
        "from nltk import pos_tag\n",
        "\n",
        "vocab_box = []\n",
        "for pos in range(len(words_box)):\n",
        "  vocab_box.append(pos_tag(words_box[pos]))\n",
        "\n",
        "vocab_box #display contents of vocab box"
      ],
      "execution_count": null,
      "outputs": [
        {
          "output_type": "execute_result",
          "data": {
            "text/plain": [
              "[[('dr', 'NN'),\n",
              "  ('smith', 'NN'),\n",
              "  ('graduated', 'VBD'),\n",
              "  ('university', 'NN'),\n",
              "  ('washington', 'NN')],\n",
              " [('later', 'RB'),\n",
              "  ('started', 'VBN'),\n",
              "  ('analytics', 'NNS'),\n",
              "  ('firm', 'NN'),\n",
              "  ('called', 'VBD'),\n",
              "  ('lux', 'RB'),\n",
              "  ('catered', 'VBN'),\n",
              "  ('enterprise', 'NN'),\n",
              "  ('customers', 'NNS')]]"
            ]
          },
          "metadata": {
            "tags": []
          },
          "execution_count": 102
        }
      ]
    },
    {
      "cell_type": "code",
      "metadata": {
        "id": "_dU71KvzzYhp",
        "outputId": "05b6ec2a-e12d-462c-ec12-628f8f285eaf",
        "colab": {
          "base_uri": "https://localhost:8080/",
          "height": 121
        }
      },
      "source": [
        "nltk.download('maxent_ne_chunker') \n",
        "nltk.download('words')  "
      ],
      "execution_count": null,
      "outputs": [
        {
          "output_type": "stream",
          "text": [
            "[nltk_data] Downloading package maxent_ne_chunker to\n",
            "[nltk_data]     /root/nltk_data...\n",
            "[nltk_data]   Package maxent_ne_chunker is already up-to-date!\n",
            "[nltk_data] Downloading package words to /root/nltk_data...\n",
            "[nltk_data]   Package words is already up-to-date!\n"
          ],
          "name": "stdout"
        },
        {
          "output_type": "execute_result",
          "data": {
            "text/plain": [
              "True"
            ]
          },
          "metadata": {
            "tags": []
          },
          "execution_count": 103
        }
      ]
    },
    {
      "cell_type": "code",
      "metadata": {
        "id": "JNE0wbDYxT4J",
        "outputId": "a03c302c-c0e4-4c01-de42-b0becf1e16f2",
        "colab": {
          "base_uri": "https://localhost:8080/",
          "height": 72
        }
      },
      "source": [
        "# Named Entity Recognition\n",
        "\n",
        "from nltk import ne_chunk\n",
        "\n",
        "tagged_list=[]\n",
        "for tagged in range(len(vocab_box)):\n",
        "    tagged_list.append(ne_chunk(vocab_box[tagged]))\n",
        "\n",
        "tagged_list    "
      ],
      "execution_count": null,
      "outputs": [
        {
          "output_type": "execute_result",
          "data": {
            "text/plain": [
              "[Tree('S', [('dr', 'NN'), ('smith', 'NN'), ('graduated', 'VBD'), ('university', 'NN'), ('washington', 'NN')]),\n",
              " Tree('S', [('later', 'RB'), ('started', 'VBN'), ('analytics', 'NNS'), ('firm', 'NN'), ('called', 'VBD'), ('lux', 'RB'), ('catered', 'VBN'), ('enterprise', 'NN'), ('customers', 'NNS')])]"
            ]
          },
          "metadata": {
            "tags": []
          },
          "execution_count": 104
        }
      ]
    },
    {
      "cell_type": "code",
      "metadata": {
        "id": "hQCtdF8w2B38",
        "outputId": "4f5d15bc-3047-4429-e3d4-f9ba588bd3ad",
        "colab": {
          "base_uri": "https://localhost:8080/",
          "height": 121
        }
      },
      "source": [
        "from nltk.stem.porter import PorterStemmer as ps\n",
        "\n",
        "for w in range(len(words_box)):\n",
        "  temp = words_box[w]\n",
        "  stemmed = [ps().stem(j) for j in temp]\n",
        "  print(stemmed)\n",
        "  print(\"\\n\")\n"
      ],
      "execution_count": null,
      "outputs": [
        {
          "output_type": "stream",
          "text": [
            "['dr', 'smith', 'graduat', 'univers', 'washington']\n",
            "\n",
            "\n",
            "['later', 'start', 'analyt', 'firm', 'call', 'lux', 'cater', 'enterpris', 'custom']\n",
            "\n",
            "\n"
          ],
          "name": "stdout"
        }
      ]
    },
    {
      "cell_type": "code",
      "metadata": {
        "id": "RTMCDfCC7QO4",
        "outputId": "179a70ce-b584-4ff8-9bf8-de3748d5bef4",
        "colab": {
          "base_uri": "https://localhost:8080/",
          "height": 69
        }
      },
      "source": [
        "nltk.download('wordnet') "
      ],
      "execution_count": null,
      "outputs": [
        {
          "output_type": "stream",
          "text": [
            "[nltk_data] Downloading package wordnet to /root/nltk_data...\n",
            "[nltk_data]   Package wordnet is already up-to-date!\n"
          ],
          "name": "stdout"
        },
        {
          "output_type": "execute_result",
          "data": {
            "text/plain": [
              "True"
            ]
          },
          "metadata": {
            "tags": []
          },
          "execution_count": 105
        }
      ]
    },
    {
      "cell_type": "code",
      "metadata": {
        "id": "GzfaU5ZC5OrL",
        "outputId": "ede54559-3e2d-409b-a1f7-1f5c9800ebdf",
        "colab": {
          "base_uri": "https://localhost:8080/",
          "height": 121
        }
      },
      "source": [
        "from nltk.stem.wordnet import WordNetLemmatizer\n",
        "\n",
        "for w in range(len(words_box)):\n",
        "  temp = words_box[w]\n",
        "  lemm = [WordNetLemmatizer().lemmatize(j) for j in temp]\n",
        "  print(lemm)\n",
        "  print(\"\\n\")\n"
      ],
      "execution_count": null,
      "outputs": [
        {
          "output_type": "stream",
          "text": [
            "['dr', 'smith', 'graduated', 'university', 'washington']\n",
            "\n",
            "\n",
            "['later', 'started', 'analytics', 'firm', 'called', 'lux', 'catered', 'enterprise', 'customer']\n",
            "\n",
            "\n"
          ],
          "name": "stdout"
        }
      ]
    },
    {
      "cell_type": "markdown",
      "metadata": {
        "id": "KUXTre3Y925V"
      },
      "source": [
        "# Naive Bayes"
      ]
    },
    {
      "cell_type": "code",
      "metadata": {
        "id": "dFyrIzPb-HK7"
      },
      "source": [
        ""
      ],
      "execution_count": null,
      "outputs": []
    }
  ]
}